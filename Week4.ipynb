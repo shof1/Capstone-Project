{
    "nbformat_minor": 1, 
    "cells": [
        {
            "source": "## Capstone Project - The Battle of Neighborhoods (Week 1)", 
            "cell_type": "markdown", 
            "metadata": {
                "collapsed": true
            }
        }, 
        {
            "source": "## 1. the problem and a discussion of the background", 
            "cell_type": "markdown", 
            "metadata": {}
        }, 
        {
            "source": "### Japanese social security budget facing to blowing and it makes pressure as tax for Japanese public.  Mainly these cause of that is depend on the aging of the population.  1/4 of Japanese public will be over age 65 in 2015.  And Japanese population had a peak and it depend on borning just several years after world war-2. We call \"Dankai no sedai\".  And second peak is \"Dakai junior\".  On the other hand average of life is improved by suitable medical care.  So aging population going up and social security expense growing up depend on that medical budget.   Japan is one of an everyone insurance company.  Then this situation squeezes government medical budget.  So I'd like to summarize these kinds of data and make sure a suitable policy.\n", 
            "cell_type": "markdown", 
            "metadata": {}
        }, 
        {
            "source": "## 2. the data and how it will be used to solve the problem", 
            "cell_type": "markdown", 
            "metadata": {}
        }, 
        {
            "source": "### Get data from Japanese Cabinet Office site.  These data was guaranteed by government.  Pick up these data and make sure relation of several parameter.  Typical relation is already discussed but more detail analy  Then make sure solution of these promblem.\nhttps://www8.cao.go.jp/kourei/ishiki/h24/kenkyu/zentai/csv.html\nhttps://www.e-stat.go.jp/stat-search/database?page=1&toukei=00450012&tstat=000001031336", 
            "cell_type": "markdown", 
            "metadata": {}
        }, 
        {
            "execution_count": null, 
            "cell_type": "code", 
            "metadata": {}, 
            "outputs": [], 
            "source": ""
        }
    ], 
    "metadata": {
        "kernelspec": {
            "display_name": "Python 3.6", 
            "name": "python3", 
            "language": "python"
        }, 
        "language_info": {
            "mimetype": "text/x-python", 
            "nbconvert_exporter": "python", 
            "version": "3.6.8", 
            "name": "python", 
            "file_extension": ".py", 
            "pygments_lexer": "ipython3", 
            "codemirror_mode": {
                "version": 3, 
                "name": "ipython"
            }
        }
    }, 
    "nbformat": 4
}