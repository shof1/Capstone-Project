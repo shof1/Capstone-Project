{
    "nbformat_minor": 1, 
    "cells": [
        {
            "source": "## Capstone Project - The Battle of Neighborhoods (Week 1)", 
            "cell_type": "markdown", 
            "metadata": {
                "collapsed": true
            }
        }, 
        {
            "source": "## 1. the problem and a discussion of the background", 
            "cell_type": "markdown", 
            "metadata": {}
        }, 
        {
            "execution_count": null, 
            "cell_type": "code", 
            "metadata": {}, 
            "outputs": [], 
            "source": "###  Japanese facing the aging of the population.  1/4 of people will be over age 65 in 2015.  Average of life is improved by suitable medical care.  \n    aging population going up and social security expense depend on that medical budget.   Japan is one of an everyone insurance company.  \n    But this situation squeezes government medical budget.  So I'd like to summarize these kinds of data and make sure a suitable policy.\n\n2. the data and how it will be used to solve the problem\nGet data from Japanese Cabinet Office site.  And relation of Analize relation of several parameter and make sure impact.  \nThen make sure solution of these promblem.\nhttps://www.e-stat.go.jp/stat-search/database?page=1&toukei=00450012&tstat=000001031336\n"
        }, 
        {
            "source": "## 2. the data and how it will be used to solve the problem", 
            "cell_type": "markdown", 
            "metadata": {}
        }, 
        {
            "source": "### Get data from Japanese Cabinet Office site.  And relation of Analize relation of several parameter and make sure impact.  \nThen make sure solution of these promblem.\nhttps://www.e-stat.go.jp/stat-search/database?page=1&toukei=00450012&tstat=000001031336", 
            "cell_type": "markdown", 
            "metadata": {}
        }, 
        {
            "execution_count": null, 
            "cell_type": "code", 
            "metadata": {}, 
            "outputs": [], 
            "source": ""
        }
    ], 
    "metadata": {
        "kernelspec": {
            "display_name": "Python 3.6", 
            "name": "python3", 
            "language": "python"
        }, 
        "language_info": {
            "mimetype": "text/x-python", 
            "nbconvert_exporter": "python", 
            "version": "3.6.8", 
            "name": "python", 
            "file_extension": ".py", 
            "pygments_lexer": "ipython3", 
            "codemirror_mode": {
                "version": 3, 
                "name": "ipython"
            }
        }
    }, 
    "nbformat": 4
}